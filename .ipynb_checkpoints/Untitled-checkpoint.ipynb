{
 "cells": [
  {
   "cell_type": "markdown",
   "metadata": {},
   "source": [
    "# data types"
   ]
  },
  {
   "cell_type": "code",
   "execution_count": 20,
   "metadata": {},
   "outputs": [],
   "source": [
    "pancasila = ['ketuhanan yang maha esa', 'kemanusiaan yang adil dan beradab', 'persatuan indonesia', 'kerakyatan yang dipimpin dalam hikmat kebijaksanaan dalam permusyawaratan dan perwakilan', 'keadilan sosial bagi seluruh rakyat indonesia', ]"
   ]
  },
  {
   "cell_type": "markdown",
   "metadata": {},
   "source": [
    "## reverse the order of the list "
   ]
  },
  {
   "cell_type": "code",
   "execution_count": 21,
   "metadata": {},
   "outputs": [],
   "source": [
    "pancasila.reverse()"
   ]
  },
  {
   "cell_type": "code",
   "execution_count": 22,
   "metadata": {},
   "outputs": [
    {
     "data": {
      "text/plain": [
       "['keadilan sosial bagi seluruh rakyat indonesia',\n",
       " 'kerakyatan yang dipimpin dalam hikmat kebijaksanaan dalam permusyawaratan dan perwakilan',\n",
       " 'persatuan indonesia',\n",
       " 'kemanusiaan yang adil dan beradab',\n",
       " 'ketuhanan yang maha esa']"
      ]
     },
     "execution_count": 22,
     "metadata": {},
     "output_type": "execute_result"
    }
   ],
   "source": [
    "pancasila"
   ]
  },
  {
   "cell_type": "markdown",
   "metadata": {},
   "source": [
    "## shuffle the order of the list "
   ]
  },
  {
   "cell_type": "code",
   "execution_count": 23,
   "metadata": {},
   "outputs": [],
   "source": [
    "import random \n",
    "\n",
    "random.shuffle(pancasila)"
   ]
  },
  {
   "cell_type": "code",
   "execution_count": 24,
   "metadata": {},
   "outputs": [
    {
     "data": {
      "text/plain": [
       "['kemanusiaan yang adil dan beradab',\n",
       " 'kerakyatan yang dipimpin dalam hikmat kebijaksanaan dalam permusyawaratan dan perwakilan',\n",
       " 'keadilan sosial bagi seluruh rakyat indonesia',\n",
       " 'persatuan indonesia',\n",
       " 'ketuhanan yang maha esa']"
      ]
     },
     "execution_count": 24,
     "metadata": {},
     "output_type": "execute_result"
    }
   ],
   "source": [
    "pancasila"
   ]
  },
  {
   "cell_type": "code",
   "execution_count": 43,
   "metadata": {},
   "outputs": [],
   "source": [
    "sila1 = pancasila[0]\n",
    "sila1 = sila1.split()\n",
    "\n",
    "\n",
    "random.shuffle(sila1)\n",
    "sila1\n",
    "\n",
    "pancasila_ngawur = []\n",
    "for sila in pancasila: \n",
    "    sila = sila.split()\n",
    "    random.shuffle(sila)\n",
    "    sila = ' '.join(sila)\n",
    "    pancasila_ngawur.append(sila)\n",
    "\n",
    "    "
   ]
  },
  {
   "cell_type": "code",
   "execution_count": 44,
   "metadata": {},
   "outputs": [
    {
     "data": {
      "text/plain": [
       "['adil beradab kemanusiaan dan yang',\n",
       " 'dalam kerakyatan perwakilan yang dalam permusyawaratan hikmat dipimpin dan kebijaksanaan',\n",
       " 'bagi rakyat indonesia seluruh keadilan sosial',\n",
       " 'indonesia persatuan',\n",
       " 'ketuhanan esa maha yang']"
      ]
     },
     "execution_count": 44,
     "metadata": {},
     "output_type": "execute_result"
    }
   ],
   "source": [
    "pancasila_ngawur"
   ]
  },
  {
   "cell_type": "code",
   "execution_count": 50,
   "metadata": {},
   "outputs": [
    {
     "data": {
      "text/plain": [
       "'yang'"
      ]
     },
     "execution_count": 50,
     "metadata": {},
     "output_type": "execute_result"
    }
   ],
   "source": [
    "dict_pancasila = {}\n",
    "dict_pancasila = dict()\n",
    "\n",
    "for i, sila in enumerate(pancasila): \n",
    "    dict_pancasila[f'sila{i}'] = sila.split()\n",
    "\n",
    "dict_pancasila['sila0'][1]"
   ]
  },
  {
   "cell_type": "code",
   "execution_count": 51,
   "metadata": {},
   "outputs": [],
   "source": [
    "with open('pancasila.txt', 'w+') as f: \n",
    "    f.writelines(sila+'\\n' for sila in pancasila)"
   ]
  },
  {
   "cell_type": "markdown",
   "metadata": {},
   "source": [
    "# making a random group generator\n",
    " total ada 33 mahasiswa    \n",
    " bagi dalam 10 kelompok    \n",
    " ada 2 kelompok yang berjumlah 4 orang   "
   ]
  },
  {
   "cell_type": "markdown",
   "metadata": {},
   "source": [
    "## read a text file "
   ]
  },
  {
   "cell_type": "markdown",
   "metadata": {},
   "source": []
  }
 ],
 "metadata": {
  "kernelspec": {
   "display_name": "Python 3",
   "language": "python",
   "name": "python3"
  },
  "language_info": {
   "codemirror_mode": {
    "name": "ipython",
    "version": 3
   },
   "file_extension": ".py",
   "mimetype": "text/x-python",
   "name": "python",
   "nbconvert_exporter": "python",
   "pygments_lexer": "ipython3",
   "version": "3.7.2"
  }
 },
 "nbformat": 4,
 "nbformat_minor": 2
}

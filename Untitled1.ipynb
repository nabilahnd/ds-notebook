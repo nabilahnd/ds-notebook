{
 "cells": [
  {
   "cell_type": "code",
   "execution_count": 2,
   "metadata": {},
   "outputs": [
    {
     "data": {
      "text/plain": [
       "['YULIANITA\\n',\n",
       " 'MUHAMAD FARRAS HANINDITO RUKMANTORO\\n',\n",
       " 'ATIKA MARASABESSY\\n',\n",
       " 'INDAH RAHMADHANIA\\n',\n",
       " 'AHMAD MUHAJIR\\n',\n",
       " 'SUMIHAR CHRISTIAN N S\\n',\n",
       " 'YOHANES A CRUX GOSAL\\n',\n",
       " 'MOHAMAD ILHAM DWI FIRMANSYAH\\n',\n",
       " 'YUDA HENDRIAWAN BUDI HANDOKO\\n',\n",
       " 'SHAFIRA HERLINAWATI\\n',\n",
       " 'HENGKY KURNIAWAN\\n',\n",
       " 'SOVIA PRABANINGTYAS\\n',\n",
       " 'FERISA TRI PUTRI PRESTASI\\n',\n",
       " 'NUR LAILI ASTI PRAMESTI\\n',\n",
       " 'RENJIRO OWEN\\n',\n",
       " 'RIF`AN AMROZI\\n',\n",
       " 'SOMA USHIO\\n',\n",
       " 'ZUHAIR\\n',\n",
       " 'FRANSISCA DIVA AMADEA\\n',\n",
       " 'MIRDHA SUCI ANANDA\\n',\n",
       " 'JULINAR\\n',\n",
       " 'MUHAMMAD NANDA SETIAWAN\\n',\n",
       " 'ALDI EKA WAHYU WIDIANTO\\n',\n",
       " 'ARIQOH FAUZIYAH IRBAH\\n',\n",
       " 'GALANG REFORMANTOKO\\n',\n",
       " 'RIO TINTO HERLAMBANG\\n',\n",
       " 'MUHAMMAD JEFRI FRANSISKA\\n',\n",
       " 'EDWIN RISBOWO\\n',\n",
       " 'ALLIF ALFIYAN\\n',\n",
       " 'MOCHAMAD FARHAN MARGA KUSUMA\\n',\n",
       " 'ANGGA KURNIAWAN\\n',\n",
       " 'FARHAN HAFIZH\\n',\n",
       " 'ANDI AQIL AMANULHAQ\\n']"
      ]
     },
     "execution_count": 2,
     "metadata": {},
     "output_type": "execute_result"
    }
   ],
   "source": [
    "with open('nama.txt') as f:\n",
    "    nama = f.readlines()\n",
    "nama"
   ]
  },
  {
   "cell_type": "code",
   "execution_count": 3,
   "metadata": {},
   "outputs": [],
   "source": [
    "random_list=[3,4,5,6,7,20]"
   ]
  },
  {
   "cell_type": "code",
   "execution_count": 4,
   "metadata": {},
   "outputs": [
    {
     "name": "stdout",
     "output_type": "stream",
     "text": [
      "3\n",
      "4\n",
      "5\n",
      "6\n",
      "7\n",
      "20\n"
     ]
    }
   ],
   "source": [
    "for apapun in random_list:\n",
    "    print(apapun)"
   ]
  },
  {
   "cell_type": "code",
   "execution_count": 5,
   "metadata": {},
   "outputs": [],
   "source": [
    "with open('nama_1.txt', 'a') as f:\n",
    "    for nomor in random_list:\n",
    "        f.write(str(nomor)+'\\n')"
   ]
  },
  {
   "cell_type": "code",
   "execution_count": 27,
   "metadata": {},
   "outputs": [
    {
     "name": "stdout",
     "output_type": "stream",
     "text": [
      "YULIANITA\n",
      "MUHAMAD FARRAS HANINDITO RUKMANTORO\n",
      "ATIKA MARASABESSY\n",
      "INDAH RAHMADHANIA\n",
      "AHMAD MUHAJIR\n",
      "SUMIHAR CHRISTIAN N S\n",
      "YOHANES A CRUX GOSAL\n",
      "MOHAMAD ILHAM DWI FIRMANSYAH\n",
      "YUDA HENDRIAWAN BUDI HANDOKO\n",
      "SHAFIRA HERLINAWATI\n",
      "HENGKY KURNIAWAN\n",
      "SOVIA PRABANINGTYAS\n",
      "FERISA TRI PUTRI PRESTASI\n",
      "NUR LAILI ASTI PRAMESTI\n",
      "RENJIRO OWEN\n",
      "RIF`AN AMROZI\n",
      "SOMA USHIO\n",
      "ZUHAIR\n",
      "FRANSISCA DIVA AMADEA\n",
      "MIRDHA SUCI ANANDA\n",
      "JULINAR\n",
      "MUHAMMAD NANDA SETIAWAN\n",
      "ALDI EKA WAHYU WIDIANTO\n",
      "ARIQOH FAUZIYAH IRBAH\n",
      "GALANG REFORMANTOKO\n",
      "RIO TINTO HERLAMBANG\n",
      "MUHAMMAD JEFRI FRANSISKA\n",
      "EDWIN RISBOWO\n",
      "ALLIF ALFIYAN\n",
      "MOCHAMAD FARHAN MARGA KUSUMA\n",
      "ANGGA KURNIAWAN\n",
      "FARHAN HAFIZH\n",
      "ANDI AQIL AMANULHAQ\n"
     ]
    }
   ],
   "source": [
    "with open('nama.txt') as f:\n",
    "    nama = f.readlines()\n",
    "nama\n",
    "\n",
    "for orang in nama:\n",
    "    orang = orang.strip()\n",
    "    print(orang)"
   ]
  },
  {
   "cell_type": "code",
   "execution_count": 28,
   "metadata": {},
   "outputs": [
    {
     "name": "stdout",
     "output_type": "stream",
     "text": [
      "[3, 4, 5, 6, 7, 10]\n"
     ]
    }
   ],
   "source": [
    "list_seribu=[]\n",
    "random_list=[3,4,5,6,7,10]\n",
    "for i in range(1000):\n",
    "    list_seribu.append(i)\n",
    "print(random_list)\n",
    "\n",
    "#for i in range (len(random_list)):\n",
    "#random_list(i)=random_list(i)**2"
   ]
  },
  {
   "cell_type": "code",
   "execution_count": 29,
   "metadata": {},
   "outputs": [
    {
     "name": "stdout",
     "output_type": "stream",
     "text": [
      "1. YULIANITA\n",
      "2. MUHAMAD FARRAS HANINDITO RUKMANTORO\n",
      "3. ATIKA MARASABESSY\n",
      "4. INDAH RAHMADHANIA\n",
      "5. AHMAD MUHAJIR\n",
      "6. SUMIHAR CHRISTIAN N S\n",
      "7. YOHANES A CRUX GOSAL\n",
      "8. MOHAMAD ILHAM DWI FIRMANSYAH\n",
      "9. YUDA HENDRIAWAN BUDI HANDOKO\n",
      "10. SHAFIRA HERLINAWATI\n",
      "11. HENGKY KURNIAWAN\n",
      "12. SOVIA PRABANINGTYAS\n",
      "13. FERISA TRI PUTRI PRESTASI\n",
      "14. NUR LAILI ASTI PRAMESTI\n",
      "15. RENJIRO OWEN\n",
      "16. RIF`AN AMROZI\n",
      "17. SOMA USHIO\n",
      "18. ZUHAIR\n",
      "19. FRANSISCA DIVA AMADEA\n",
      "20. MIRDHA SUCI ANANDA\n",
      "21. JULINAR\n",
      "22. MUHAMMAD NANDA SETIAWAN\n",
      "23. ALDI EKA WAHYU WIDIANTO\n",
      "24. ARIQOH FAUZIYAH IRBAH\n",
      "25. GALANG REFORMANTOKO\n",
      "26. RIO TINTO HERLAMBANG\n",
      "27. MUHAMMAD JEFRI FRANSISKA\n",
      "28. EDWIN RISBOWO\n",
      "29. ALLIF ALFIYAN\n",
      "30. MOCHAMAD FARHAN MARGA KUSUMA\n",
      "31. ANGGA KURNIAWAN\n",
      "32. FARHAN HAFIZH\n",
      "33. ANDI AQIL AMANULHAQ\n"
     ]
    }
   ],
   "source": [
    "mahasiswa = []\n",
    "for orang in nama:\n",
    "    orang = orang.strip()\n",
    "    mahasiswa.append(orang)\n",
    "mahasiswa\n",
    "\n",
    "for index, nama in enumerate(mahasiswa):\n",
    "    print(f'{index+1}. {nama}')"
   ]
  },
  {
   "cell_type": "code",
   "execution_count": null,
   "metadata": {},
   "outputs": [],
   "source": []
  }
 ],
 "metadata": {
  "kernelspec": {
   "display_name": "Python 3",
   "language": "python",
   "name": "python3"
  },
  "language_info": {
   "codemirror_mode": {
    "name": "ipython",
    "version": 3
   },
   "file_extension": ".py",
   "mimetype": "text/x-python",
   "name": "python",
   "nbconvert_exporter": "python",
   "pygments_lexer": "ipython3",
   "version": "3.6.4"
  }
 },
 "nbformat": 4,
 "nbformat_minor": 2
}
